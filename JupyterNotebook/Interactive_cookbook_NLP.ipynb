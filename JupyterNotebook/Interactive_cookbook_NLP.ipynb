{
 "cells": [
  {
   "cell_type": "code",
   "execution_count": 1,
   "metadata": {},
   "outputs": [
    {
     "data": {
      "text/plain": [
       "3.5"
      ]
     },
     "execution_count": 1,
     "metadata": {},
     "output_type": "execute_result"
    }
   ],
   "source": [
    "import fractions\n",
    "c = \"3  1/2\"\n",
    "def mixed_to_float(x):\n",
    "    return float(sum(fractions.Fraction(term) for term in x.split()))\n",
    "mixed_to_float(c)"
   ]
  },
  {
   "cell_type": "code",
   "execution_count": 2,
   "metadata": {},
   "outputs": [],
   "source": [
    "import json\n",
    "path = 'recipeDB.json'\n",
    "with open(path) as f:\n",
    "    # load the data\n",
    "    json_data = json.load(f)\n",
    "\n",
    "indian_dict = json_data[\"anyToIndian\"]\n",
    "style_dict = json_data[\"styles\"]\n",
    "health_dict = json_data[\"healthyToUnhealthy\"]"
   ]
  },
  {
   "cell_type": "code",
   "execution_count": 3,
   "metadata": {},
   "outputs": [
    {
     "data": {
      "text/plain": [
       "{'ingredients': ['1/2 cup sun-dried tomatoes',\n",
       "  '1 cup hot water',\n",
       "  'cooking spray',\n",
       "  '1 pound ground beef',\n",
       "  '1 cup seasoned bread crumbs',\n",
       "  '3/4 cup finely chopped onion',\n",
       "  '3/4 cup chopped fresh basil',\n",
       "  '1/2 cup ketchup',\n",
       "  '2 ounces shredded sharp provolone cheese',\n",
       "  '2 egg whites',\n",
       "  '2 cloves garlic, chopped'],\n",
       " 'labels': [],\n",
       " 'directions': ['Put tomatoes in a bowl. Pour hot water over tomatoes and soak until softened, about 30 minutes; drain.',\n",
       "  'Preheat oven to 350 degrees F (175 degrees C). Prepare a loaf pan with cooking spray.',\n",
       "  'Mix drained tomatoes, ground beef, bread crumbs, onion, basil, ketchup, provolone cheese, egg whites, and garlic together in a bowl; pack into prepared loaf pan.',\n",
       "  'Bake in the preheated oven until no longer pink in the center, about 1 hour. An instant-read thermometer inserted into the center should read at least 160 degrees F (70 degrees C).']}"
      ]
     },
     "execution_count": 3,
     "metadata": {},
     "output_type": "execute_result"
    }
   ],
   "source": [
    "from bs4 import BeautifulSoup\n",
    "\n",
    "import requests\n",
    "\n",
    "\n",
    "class RecipeFetcher:\n",
    "\n",
    "    search_base_url = 'https://www.allrecipes.com/search/results/?wt=%s&sort=re'\n",
    "\n",
    "    def search_recipes(self, keywords): \n",
    "        search_url = self.search_base_url %(keywords.replace(' ','+'))\n",
    "\n",
    "        page_html = requests.get(search_url)\n",
    "        page_graph = BeautifulSoup(page_html.content,features = \"lxml\")\n",
    "\n",
    "        return [recipe.a['href'] for recipe in\\\n",
    "               page_graph.find_all('div', {'class':'grid-card-image-container'})]\n",
    "\n",
    "    def scrape_recipe(self, recipe_url):\n",
    "        results = {}\n",
    "\n",
    "        page_html = requests.get(recipe_url)\n",
    "        page_graph = BeautifulSoup(page_html.content,features = \"lxml\")\n",
    "        results['ingredients'] = [ingredient.text for ingredient in\\\n",
    "                                  page_graph.find_all('span', {'itemprop':'recipeIngredient'})]\n",
    "        \n",
    "        results['labels'] = [ingredient.text for ingredient in\\\n",
    "#                                   page_graph.find_all('span', {'itemprop':'recipeIngredient'})\n",
    "                                  page_graph.find_all('span', {'data-id':'0'})]\n",
    "        \n",
    "        results['directions'] = [direction.text.strip() for direction in\\\n",
    "                                 page_graph.find_all('span', {'class':'recipe-directions__list--item'})\n",
    "                                 if direction.text.strip()]\n",
    "        for i in results['ingredients']:\n",
    "            if i in results['labels']:\n",
    "                results['ingredients'].remove(i)\n",
    "                \n",
    "        return results\n",
    "\n",
    "    \n",
    "rf = RecipeFetcher()\n",
    "paneer_makhani = rf.search_recipes('italian meatloaf')[0]\n",
    "recipe = (rf.scrape_recipe(paneer_makhani))\n",
    "recipe"
   ]
  },
  {
   "cell_type": "code",
   "execution_count": 4,
   "metadata": {},
   "outputs": [
    {
     "data": {
      "text/plain": [
       "{'1/2 cup sun-dried tomatoes': {'Preparation': ['dried '],\n",
       "  'Measurement': ['cup'],\n",
       "  'Quantity': 0.5,\n",
       "  'Ingredient Name': 'sun-tomatoes'},\n",
       " '1 cup hot water': {'Measurement': ['cup'],\n",
       "  'Quantity': 1.0,\n",
       "  'Ingredient Name': 'hot water'},\n",
       " 'cooking spray': {'Ingredient Name': 'cooking spray'},\n",
       " '1 pound ground beef': {'Measurement': ['pound'],\n",
       "  'Quantity': 1.0,\n",
       "  'Ingredient Name': 'ground beef'},\n",
       " '1 cup seasoned bread crumbs': {'Preparation': ['seasoned '],\n",
       "  'Measurement': ['cup'],\n",
       "  'Quantity': 1.0,\n",
       "  'Ingredient Name': 'bread crumbs'},\n",
       " '3/4 cup finely chopped onion': {'Preparation': ['chopped '],\n",
       "  'Measurement': ['cup'],\n",
       "  'Quantity': 0.75,\n",
       "  'Ingredient Name': 'finely onion'},\n",
       " '3/4 cup chopped fresh basil': {'Preparation': ['chopped '],\n",
       "  'Measurement': ['cup'],\n",
       "  'Quantity': 0.75,\n",
       "  'Ingredient Name': 'fresh basil'},\n",
       " '1/2 cup ketchup': {'Measurement': ['cup'],\n",
       "  'Quantity': 0.5,\n",
       "  'Ingredient Name': 'ketchup'},\n",
       " '2 ounces shredded sharp provolone cheese': {'Preparation': ['shredded '],\n",
       "  'Measurement': ['ounces'],\n",
       "  'Quantity': 2.0,\n",
       "  'Ingredient Name': 'sharp provolone cheese'},\n",
       " '2 egg whites': {'Quantity': 2.0, 'Ingredient Name': 'egg whites'},\n",
       " '2 cloves garlic, chopped': {'Measurement': ['cloves'],\n",
       "  'Quantity': 2.0,\n",
       "  'Ingredient Name': 'garlic'}}"
      ]
     },
     "execution_count": 4,
     "metadata": {},
     "output_type": "execute_result"
    }
   ],
   "source": [
    "import re\n",
    "dic = {}\n",
    "\n",
    "for i in (recipe['ingredients']):\n",
    "    dic[i] ={}\n",
    "    x=re.findall('\\w+ed ',i)\n",
    "    if x!=[]:\n",
    "        dic[i] = {'Preparation':x}\n",
    "        \n",
    "for i in (recipe['ingredients']):\n",
    "    if 'egg' in i:\n",
    "        pass\n",
    "    #print(i)\n",
    "    else:\n",
    "        if '(' in i and '%' not in i:\n",
    "            x=re.findall('\\(\\d+ (\\w+)\\)',i)\n",
    "            if x!=[]:\n",
    "                dic[i]['Measurement'] = x\n",
    "        elif '%' in i:\n",
    "            x=re.findall('\\d+ (\\w+)',i)\n",
    "            if x!=[]:\n",
    "                dic[i]['Measurement'] = x\n",
    "        else:\n",
    "            x = re.findall('\\d+ (\\w+) \\w+',i)\n",
    "            if x!=[]:\n",
    "                dic[i]['Measurement']=x\n",
    "\n",
    "for i in (recipe['ingredients']):\n",
    "    if '(' in i and '%' not in i:\n",
    "        x=re.findall('\\((\\d+) \\w+\\)',i)\n",
    "        if x!=[]:\n",
    "            dic[i]['Quantity'] = mixed_to_float(x[0])\n",
    "    elif '%' in i:\n",
    "        x=re.findall('(\\d+) \\w+',i)\n",
    "        if x!=[]:\n",
    "            dic[i]['Quantity'] = mixed_to_float(x[0])\n",
    "    else:    \n",
    "        if '/' in i:\n",
    "            x=re.findall('(\\d*\\s*\\d\\/\\d)+',i)\n",
    "            if x!=[]:\n",
    "                dic[i]['Quantity'] = mixed_to_float(x[0])\n",
    "\n",
    "        else:\n",
    "            x = re.findall('(\\d+) \\w',i)\n",
    "            if x!=[]:\n",
    "                dic[i]['Quantity']=mixed_to_float(x[0])\n",
    "                \n",
    "for i in (recipe['ingredients']):\n",
    "    if 'egg' in i:\n",
    "        x = re.findall('\\d+ (.*)',i)\n",
    "        dic[i]['Ingredient Name'] = x[0]\n",
    "    else:\n",
    "        x = i\n",
    "        if ')' in i:\n",
    "\n",
    "            x=re.sub('.*\\(.*\\) \\w+','',x)\n",
    "    #         if x!=[]:\n",
    "    #             dic[i]['Quantity'] = x    \n",
    "        if '/' in i:\n",
    "                x=re.sub('\\/','',x)\n",
    "    #             if x!=[]:\n",
    "    #                 dic[i]['Quantity'] = mixed_to_float(x[0])\n",
    "        x =re.sub('\\d+','',x)\n",
    "        try:\n",
    "            x = re.sub(dic[i]['Measurement'][0],'',x)\n",
    "            x = re.sub(dic[i]['Preparation'][0],'',x)\n",
    "        except:\n",
    "            x = x\n",
    "        x = re.sub('\\,.*|to taste','',x).lstrip(' ')\n",
    "        dic[i]['Ingredient Name'] = x\n",
    "dic"
   ]
  },
  {
   "cell_type": "code",
   "execution_count": 5,
   "metadata": {},
   "outputs": [],
   "source": [
    "healthy = ['wheat', 'cottage','sauce']\n",
    "health_dict = [i for i in health_dict if not (i['unhealthy'] == 'cheese')] \n",
    "health_dict = [i for i in health_dict if not (i['unhealthy'] == 'parmesan cheese')] \n",
    "health_dict = [i for i in health_dict if not (i['unhealthy'] == 'mozzarella cheese')] \n",
    "\n",
    "cheese1 = {'healthy': 'soy parmesan', 'unhealthy': 'parmesan cheese'}\n",
    "cheese2 = {'healthy': 'non-fat mozzarella', 'unhealthy': 'mozzarella cheese'}\n",
    "health_dict.append(cheese1)\n",
    "health_dict.append(cheese2)\n",
    "#print(health_dict)\n",
    "arr =[]\n",
    "arr2 =[]\n",
    "\n",
    "def to_Healthy(recipe_dic):\n",
    "    transformed_directions =[]\n",
    "    for i in recipe_dic:\n",
    "        print(recipe_dic[i]['Ingredient Name'])\n",
    "        curr = recipe_dic[i]['Ingredient Name'].lower()\n",
    "        \n",
    "        #print(dic[i]['Ingredient Name'])\n",
    "        for j in health_dict:\n",
    "            if (j['unhealthy']) in curr and  not(any(substring in curr for substring in healthy)):\n",
    "                \n",
    "                recipe_dic[i]['Ingredient Name'] = j['healthy']\n",
    "                arr.append(curr)\n",
    "                arr2.append(j['healthy'])\n",
    "    \n",
    "#     print(arr)\n",
    "#     print(arr2)\n",
    "    \n",
    "    \n",
    "    for k in recipe['directions']:\n",
    "        \n",
    "        fl = False\n",
    "        for i in range(len(arr)):\n",
    "            j = k.lower()\n",
    "            if arr[i] in j:\n",
    "                k =j.replace(arr[i],arr2[i])\n",
    "#                 print(k)\n",
    "        transformed_directions.append(k)\n",
    "    return transformed_directions"
   ]
  },
  {
   "cell_type": "code",
   "execution_count": 6,
   "metadata": {},
   "outputs": [
    {
     "name": "stdout",
     "output_type": "stream",
     "text": [
      "sun-tomatoes\n",
      "hot water\n",
      "cooking spray\n",
      "ground beef\n",
      "bread crumbs\n",
      "finely onion\n",
      "fresh basil\n",
      "ketchup\n",
      "sharp provolone cheese\n",
      "egg whites\n",
      "garlic\n",
      "['Put tomatoes in a bowl. Pour hot water over tomatoes and soak until softened, about 30 minutes; drain.', 'Preheat oven to 350 degrees F (175 degrees C). Prepare a loaf pan with cooking spray.', 'Mix drained tomatoes, ground beef, bread crumbs, onion, basil, ketchup, provolone cheese, egg whites, and garlic together in a bowl; pack into prepared loaf pan.', 'Bake in the preheated oven until no longer pink in the center, about 1 hour. An instant-read thermometer inserted into the center should read at least 160 degrees F (70 degrees C).']\n",
      "['Put tomatoes in a bowl. Pour hot water over tomatoes and soak until softened, about 30 minutes; drain.', 'Preheat oven to 350 degrees F (175 degrees C). Prepare a loaf pan with cooking spray.', 'Mix drained tomatoes, ground beef, bread crumbs, onion, basil, ketchup, provolone cheese, egg whites, and garlic together in a bowl; pack into prepared loaf pan.', 'Bake in the preheated oven until no longer pink in the center, about 1 hour. An instant-read thermometer inserted into the center should read at least 160 degrees F (70 degrees C).']\n"
     ]
    }
   ],
   "source": [
    "update_dir = to_Healthy(dic)\n",
    "print(update_dir)\n",
    "print(recipe['directions'])"
   ]
  },
  {
   "cell_type": "code",
   "execution_count": 7,
   "metadata": {},
   "outputs": [],
   "source": [
    "def to_Unhealthy(recipe_dic):\n",
    "    transformed_directions =[]\n",
    "    for i in recipe_dic:\n",
    "        curr = recipe_dic[i]['Ingredient Name'].lower()\n",
    "        #print(dic[i]['Ingredient Name'])\n",
    "        for j in health_dict:\n",
    "            if (j['healthy']) in curr:\n",
    "                recipe_dic[i]['Ingredient Name'] = j['unhealthy']\n",
    "                arr.append(curr)\n",
    "                arr2.append(j['unhealthy'])\n",
    "#     print(arr)\n",
    "#     print(arr2)\n",
    "    \n",
    "    \n",
    "    for k in recipe['directions']:\n",
    "        for i in range(len(arr)):\n",
    "            j = k.lower()\n",
    "            if arr[i] in j:\n",
    "                k =j.replace(arr[i],arr2[i])\n",
    "                #print(k)\n",
    "        transformed_directions.append(k)\n",
    "    return transformed_directions"
   ]
  },
  {
   "cell_type": "code",
   "execution_count": 8,
   "metadata": {},
   "outputs": [
    {
     "name": "stdout",
     "output_type": "stream",
     "text": [
      "['Put tomatoes in a bowl. Pour hot water over tomatoes and soak until softened, about 30 minutes; drain.', 'Preheat oven to 350 degrees F (175 degrees C). Prepare a loaf pan with cooking spray.', 'mix drained tomatoes, ground beef, bread crumbs, onion, basil, ketchup, provolone cheese, eggs, and garlic together in a bowl; pack into prepared loaf pan.', 'Bake in the preheated oven until no longer pink in the center, about 1 hour. An instant-read thermometer inserted into the center should read at least 160 degrees F (70 degrees C).']\n",
      "['Put tomatoes in a bowl. Pour hot water over tomatoes and soak until softened, about 30 minutes; drain.', 'Preheat oven to 350 degrees F (175 degrees C). Prepare a loaf pan with cooking spray.', 'Mix drained tomatoes, ground beef, bread crumbs, onion, basil, ketchup, provolone cheese, egg whites, and garlic together in a bowl; pack into prepared loaf pan.', 'Bake in the preheated oven until no longer pink in the center, about 1 hour. An instant-read thermometer inserted into the center should read at least 160 degrees F (70 degrees C).']\n"
     ]
    },
    {
     "data": {
      "text/plain": [
       "{'1/2 cup sun-dried tomatoes': {'Preparation': ['dried '],\n",
       "  'Measurement': ['cup'],\n",
       "  'Quantity': 0.5,\n",
       "  'Ingredient Name': 'sun-tomatoes'},\n",
       " '1 cup hot water': {'Measurement': ['cup'],\n",
       "  'Quantity': 1.0,\n",
       "  'Ingredient Name': 'hot water'},\n",
       " 'cooking spray': {'Ingredient Name': 'cooking spray'},\n",
       " '1 pound ground beef': {'Measurement': ['pound'],\n",
       "  'Quantity': 1.0,\n",
       "  'Ingredient Name': 'ground beef'},\n",
       " '1 cup seasoned bread crumbs': {'Preparation': ['seasoned '],\n",
       "  'Measurement': ['cup'],\n",
       "  'Quantity': 1.0,\n",
       "  'Ingredient Name': 'bread crumbs'},\n",
       " '3/4 cup finely chopped onion': {'Preparation': ['chopped '],\n",
       "  'Measurement': ['cup'],\n",
       "  'Quantity': 0.75,\n",
       "  'Ingredient Name': 'finely onion'},\n",
       " '3/4 cup chopped fresh basil': {'Preparation': ['chopped '],\n",
       "  'Measurement': ['cup'],\n",
       "  'Quantity': 0.75,\n",
       "  'Ingredient Name': 'fresh basil'},\n",
       " '1/2 cup ketchup': {'Measurement': ['cup'],\n",
       "  'Quantity': 0.5,\n",
       "  'Ingredient Name': 'ketchup'},\n",
       " '2 ounces shredded sharp provolone cheese': {'Preparation': ['shredded '],\n",
       "  'Measurement': ['ounces'],\n",
       "  'Quantity': 2.0,\n",
       "  'Ingredient Name': 'sharp provolone cheese'},\n",
       " '2 egg whites': {'Quantity': 2.0, 'Ingredient Name': 'eggs'},\n",
       " '2 cloves garlic, chopped': {'Measurement': ['cloves'],\n",
       "  'Quantity': 2.0,\n",
       "  'Ingredient Name': 'garlic'}}"
      ]
     },
     "execution_count": 8,
     "metadata": {},
     "output_type": "execute_result"
    }
   ],
   "source": [
    "recipe['directions']=  to_Unhealthy(dic)\n",
    "print(recipe['directions'])\n",
    "print(update_dir)\n",
    "dic"
   ]
  },
  {
   "cell_type": "code",
   "execution_count": 9,
   "metadata": {},
   "outputs": [],
   "source": [
    "arr =[]\n",
    "arr2 =[]\n",
    "steps=[]\n",
    "\n",
    "def to_Indian(recipe_dic):\n",
    "    transformed_directions =[]\n",
    "    for i in recipe_dic:\n",
    "        curr = recipe_dic[i]['Ingredient Name'].lower()\n",
    "        #print(dic[i]['Ingredient Name'])\n",
    "        for a in style_dict:\n",
    "            if a in curr:\n",
    "                k = curr.replace(a, 'indian')\n",
    "                curr = k\n",
    "        for j in indian_dict:\n",
    "            if (j['other']) in curr:\n",
    "                curr = curr.replace(j['other'], j['indian'])\n",
    "        recipe_dic[i]['Ingredient Name'] = curr\n",
    "        arr.append(curr)\n",
    "    while '' in arr: arr.remove('')\n",
    "    print(\"INGREDIENTS:\")\n",
    "    print(arr)\n",
    "    print(\"______________________________________________________\")\n",
    "    for k in recipe['directions']:\n",
    "        fl = False\n",
    "        j = k.lower()   \n",
    "        for a in style_dict:\n",
    "            if a in j:\n",
    "                k = j.replace(a, 'indian')\n",
    "                j = k\n",
    "        for a in indian_dict:\n",
    "            if a['other'] in j:\n",
    "                k = j.replace(a['other'], a['indian'])\n",
    "                j = k\n",
    "                #print(a['other'])\n",
    "                #print(k)\n",
    "        transformed_directions.append(k)\n",
    "        \n",
    "    for k in transformed_directions:\n",
    "        fl = False\n",
    "        j = k.lower()   \n",
    "        for a in indian_dict:   \n",
    "            for word in a['other'].split():\n",
    "                if word in j:\n",
    "                    k = j.replace(word, a['indian'])\n",
    "                    j = k\n",
    "                    #print(word)\n",
    "                    #print(k)\n",
    "        steps.append(k)\n",
    "    #print(\"DIRECTIONS:\")\n",
    "    #print(steps)\n",
    "    return steps\n"
   ]
  },
  {
   "cell_type": "code",
   "execution_count": 10,
   "metadata": {},
   "outputs": [],
   "source": [
    "def cut_or_double(direction,n):   \n",
    "    updated_direc =[]\n",
    "    for i in direction:\n",
    "            x=re.findall('(\\d+) \\w*\\s*minutes',i)\n",
    "            if x!=[]:\n",
    "                for j in x:\n",
    "                    k = float(j)\n",
    "                    k = k*n\n",
    "                    k = str(k)\n",
    "                    k = re.sub('\\.\\d+','',k)\n",
    "                    i=re.sub(j,k,i)\n",
    "            updated_direc.append(i)           \n",
    "    return updated_direc"
   ]
  },
  {
   "cell_type": "code",
   "execution_count": 11,
   "metadata": {},
   "outputs": [],
   "source": [
    "def to_double(recipe_dic):\n",
    "    for i in recipe_dic:\n",
    "        try:\n",
    "            recipe_dic[i]['Quantity'] = 2*recipe_dic[i]['Quantity']\n",
    "        except:\n",
    "            pass\n",
    "    update_dir1 = cut_or_double(update_dir,1.5)\n",
    "    return update_dir1"
   ]
  },
  {
   "cell_type": "code",
   "execution_count": 12,
   "metadata": {},
   "outputs": [
    {
     "name": "stdout",
     "output_type": "stream",
     "text": [
      "{'1/2 cup sun-dried tomatoes': {'Preparation': ['dried '], 'Measurement': ['cup'], 'Quantity': 1.0, 'Ingredient Name': 'sun-tomatoes'}, '1 cup hot water': {'Measurement': ['cup'], 'Quantity': 2.0, 'Ingredient Name': 'hot water'}, 'cooking spray': {'Ingredient Name': 'cooking spray'}, '1 pound ground beef': {'Measurement': ['pound'], 'Quantity': 2.0, 'Ingredient Name': 'ground beef'}, '1 cup seasoned bread crumbs': {'Preparation': ['seasoned '], 'Measurement': ['cup'], 'Quantity': 2.0, 'Ingredient Name': 'bread crumbs'}, '3/4 cup finely chopped onion': {'Preparation': ['chopped '], 'Measurement': ['cup'], 'Quantity': 1.5, 'Ingredient Name': 'finely onion'}, '3/4 cup chopped fresh basil': {'Preparation': ['chopped '], 'Measurement': ['cup'], 'Quantity': 1.5, 'Ingredient Name': 'fresh basil'}, '1/2 cup ketchup': {'Measurement': ['cup'], 'Quantity': 1.0, 'Ingredient Name': 'ketchup'}, '2 ounces shredded sharp provolone cheese': {'Preparation': ['shredded '], 'Measurement': ['ounces'], 'Quantity': 4.0, 'Ingredient Name': 'sharp provolone cheese'}, '2 egg whites': {'Quantity': 4.0, 'Ingredient Name': 'eggs'}, '2 cloves garlic, chopped': {'Measurement': ['cloves'], 'Quantity': 4.0, 'Ingredient Name': 'garlic'}}\n"
     ]
    },
    {
     "data": {
      "text/plain": [
       "['Put tomatoes in a bowl. Pour hot water over tomatoes and soak until softened, about 45 minutes; drain.',\n",
       " 'Preheat oven to 350 degrees F (175 degrees C). Prepare a loaf pan with cooking spray.',\n",
       " 'mix drained tomatoes, ground beef, bread crumbs, onion, basil, ketchup, provolone cheese, eggs, and garlic together in a bowl; pack into prepared loaf pan.',\n",
       " 'Bake in the preheated oven until no longer pink in the center, about 1 hour. An instant-read thermometer inserted into the center should read at least 160 degrees F (70 degrees C).']"
      ]
     },
     "execution_count": 12,
     "metadata": {},
     "output_type": "execute_result"
    }
   ],
   "source": [
    "update_dir = to_double(dic)\n",
    "print(dic)\n",
    "update_dir"
   ]
  },
  {
   "cell_type": "code",
   "execution_count": 13,
   "metadata": {},
   "outputs": [],
   "source": [
    "def to_half(recipe_dic):\n",
    "    for i in recipe_dic:\n",
    "        try:\n",
    "            recipe_dic[i]['Quantity'] = 0.5*recipe_dic[i]['Quantity']\n",
    "        except:\n",
    "            pass\n",
    "    update_dir1 = cut_or_double(update_dir,0.75)\n",
    "    return update_dir1"
   ]
  },
  {
   "cell_type": "code",
   "execution_count": 14,
   "metadata": {},
   "outputs": [],
   "source": [
    "update_dir = to_half(dic)"
   ]
  },
  {
   "cell_type": "code",
   "execution_count": 15,
   "metadata": {},
   "outputs": [
    {
     "name": "stdout",
     "output_type": "stream",
     "text": [
      "{'1/2 cup sun-dried tomatoes': {'Preparation': ['dried '], 'Measurement': ['cup'], 'Quantity': 0.5, 'Ingredient Name': 'sun-tomatoes'}, '1 cup hot water': {'Measurement': ['cup'], 'Quantity': 1.0, 'Ingredient Name': 'hot water'}, 'cooking spray': {'Ingredient Name': 'cooking spray'}, '1 pound ground beef': {'Measurement': ['pound'], 'Quantity': 1.0, 'Ingredient Name': 'ground beef'}, '1 cup seasoned bread crumbs': {'Preparation': ['seasoned '], 'Measurement': ['cup'], 'Quantity': 1.0, 'Ingredient Name': 'bread crumbs'}, '3/4 cup finely chopped onion': {'Preparation': ['chopped '], 'Measurement': ['cup'], 'Quantity': 0.75, 'Ingredient Name': 'finely onion'}, '3/4 cup chopped fresh basil': {'Preparation': ['chopped '], 'Measurement': ['cup'], 'Quantity': 0.75, 'Ingredient Name': 'fresh basil'}, '1/2 cup ketchup': {'Measurement': ['cup'], 'Quantity': 0.5, 'Ingredient Name': 'ketchup'}, '2 ounces shredded sharp provolone cheese': {'Preparation': ['shredded '], 'Measurement': ['ounces'], 'Quantity': 2.0, 'Ingredient Name': 'sharp provolone cheese'}, '2 egg whites': {'Quantity': 2.0, 'Ingredient Name': 'eggs'}, '2 cloves garlic, chopped': {'Measurement': ['cloves'], 'Quantity': 2.0, 'Ingredient Name': 'garlic'}}\n"
     ]
    },
    {
     "data": {
      "text/plain": [
       "['Put tomatoes in a bowl. Pour hot water over tomatoes and soak until softened, about 33 minutes; drain.',\n",
       " 'Preheat oven to 350 degrees F (175 degrees C). Prepare a loaf pan with cooking spray.',\n",
       " 'mix drained tomatoes, ground beef, bread crumbs, onion, basil, ketchup, provolone cheese, eggs, and garlic together in a bowl; pack into prepared loaf pan.',\n",
       " 'Bake in the preheated oven until no longer pink in the center, about 1 hour. An instant-read thermometer inserted into the center should read at least 160 degrees F (70 degrees C).']"
      ]
     },
     "execution_count": 15,
     "metadata": {},
     "output_type": "execute_result"
    }
   ],
   "source": [
    "print(dic)\n",
    "update_dir"
   ]
  },
  {
   "cell_type": "code",
   "execution_count": 16,
   "metadata": {},
   "outputs": [
    {
     "name": "stdout",
     "output_type": "stream",
     "text": [
      "sun-tomatoes\n",
      "hot water\n",
      "cooking spray\n",
      "ground beef\n",
      "bread crumbs\n",
      "finely onion\n",
      "fresh basil\n",
      "ketchup\n",
      "sharp provolone cheese\n",
      "eggs\n",
      "garlic\n"
     ]
    }
   ],
   "source": [
    "update_dir = to_Healthy(dic)"
   ]
  },
  {
   "cell_type": "code",
   "execution_count": 17,
   "metadata": {},
   "outputs": [
    {
     "data": {
      "text/plain": [
       "{'1/2 cup sun-dried tomatoes': {'Preparation': ['dried '],\n",
       "  'Measurement': ['cup'],\n",
       "  'Quantity': 0.5,\n",
       "  'Ingredient Name': 'sun-tomatoes'},\n",
       " '1 cup hot water': {'Measurement': ['cup'],\n",
       "  'Quantity': 1.0,\n",
       "  'Ingredient Name': 'hot water'},\n",
       " 'cooking spray': {'Ingredient Name': 'cooking spray'},\n",
       " '1 pound ground beef': {'Measurement': ['pound'],\n",
       "  'Quantity': 1.0,\n",
       "  'Ingredient Name': 'ground beef'},\n",
       " '1 cup seasoned bread crumbs': {'Preparation': ['seasoned '],\n",
       "  'Measurement': ['cup'],\n",
       "  'Quantity': 1.0,\n",
       "  'Ingredient Name': 'bread crumbs'},\n",
       " '3/4 cup finely chopped onion': {'Preparation': ['chopped '],\n",
       "  'Measurement': ['cup'],\n",
       "  'Quantity': 0.75,\n",
       "  'Ingredient Name': 'finely onion'},\n",
       " '3/4 cup chopped fresh basil': {'Preparation': ['chopped '],\n",
       "  'Measurement': ['cup'],\n",
       "  'Quantity': 0.75,\n",
       "  'Ingredient Name': 'fresh basil'},\n",
       " '1/2 cup ketchup': {'Measurement': ['cup'],\n",
       "  'Quantity': 0.5,\n",
       "  'Ingredient Name': 'ketchup'},\n",
       " '2 ounces shredded sharp provolone cheese': {'Preparation': ['shredded '],\n",
       "  'Measurement': ['ounces'],\n",
       "  'Quantity': 2.0,\n",
       "  'Ingredient Name': 'sharp provolone cheese'},\n",
       " '2 egg whites': {'Quantity': 2.0, 'Ingredient Name': 'egg whites'},\n",
       " '2 cloves garlic, chopped': {'Measurement': ['cloves'],\n",
       "  'Quantity': 2.0,\n",
       "  'Ingredient Name': 'garlic'}}"
      ]
     },
     "execution_count": 17,
     "metadata": {},
     "output_type": "execute_result"
    }
   ],
   "source": [
    "dic"
   ]
  },
  {
   "cell_type": "code",
   "execution_count": 18,
   "metadata": {},
   "outputs": [],
   "source": [
    "#update_dir = to_Healthy(dic)\n",
    "update_dir = to_half(dic)"
   ]
  },
  {
   "cell_type": "code",
   "execution_count": 19,
   "metadata": {},
   "outputs": [
    {
     "data": {
      "text/plain": [
       "['Put tomatoes in a bowl. Pour hot water over tomatoes and soak until softened, about 22 minutes; drain.',\n",
       " 'Preheat oven to 350 degrees F (175 degrees C). Prepare a loaf pan with cooking spray.',\n",
       " 'Mix drained tomatoes, ground beef, bread crumbs, onion, basil, ketchup, provolone cheese, egg whites, and garlic together in a bowl; pack into prepared loaf pan.',\n",
       " 'Bake in the preheated oven until no longer pink in the center, about 1 hour. An instant-read thermometer inserted into the center should read at least 160 degrees F (70 degrees C).']"
      ]
     },
     "execution_count": 19,
     "metadata": {},
     "output_type": "execute_result"
    }
   ],
   "source": [
    "update_dir"
   ]
  },
  {
   "cell_type": "code",
   "execution_count": 20,
   "metadata": {},
   "outputs": [
    {
     "name": "stdout",
     "output_type": "stream",
     "text": [
      "INGREDIENTS:\n",
      "['eggs', 'sun-tomatoes', 'hot water', 'cooking spray', 'lamb or goat', 'bread crumbs', 'finely onion', 'fresh cilantro', 'tomato puree', 'sharp curd', 'egg whites', 'garlic']\n",
      "______________________________________________________\n"
     ]
    }
   ],
   "source": [
    "update_dir = to_Indian(dic)"
   ]
  },
  {
   "cell_type": "code",
   "execution_count": 21,
   "metadata": {},
   "outputs": [
    {
     "data": {
      "text/plain": [
       "['put tomatoes in a bowl. pour bun water over tomatoes and soak until softened, about 30 minutes; drain.',\n",
       " 'Preheat oven to 350 degrees F (175 degrees C). Prepare a loaf pan with cooking spray.',\n",
       " 'mix drained tomatoes, lamb or goat, bread crumbs, onion, cilantro, tomato puree, curd, egg whites, and garlic together in a bowl; pack into prepared loaf pan.',\n",
       " 'Bake in the preheated oven until no longer pink in the center, about 1 hour. An instant-read thermometer inserted into the center should read at least 160 degrees F (70 degrees C).']"
      ]
     },
     "execution_count": 21,
     "metadata": {},
     "output_type": "execute_result"
    }
   ],
   "source": [
    "update_dir"
   ]
  },
  {
   "cell_type": "code",
   "execution_count": 22,
   "metadata": {},
   "outputs": [
    {
     "data": {
      "text/plain": [
       "{'1/2 cup sun-dried tomatoes': {'Preparation': ['dried '],\n",
       "  'Measurement': ['cup'],\n",
       "  'Quantity': 0.25,\n",
       "  'Ingredient Name': 'sun-tomatoes'},\n",
       " '1 cup hot water': {'Measurement': ['cup'],\n",
       "  'Quantity': 0.5,\n",
       "  'Ingredient Name': 'hot water'},\n",
       " 'cooking spray': {'Ingredient Name': 'cooking spray'},\n",
       " '1 pound ground beef': {'Measurement': ['pound'],\n",
       "  'Quantity': 0.5,\n",
       "  'Ingredient Name': 'lamb or goat'},\n",
       " '1 cup seasoned bread crumbs': {'Preparation': ['seasoned '],\n",
       "  'Measurement': ['cup'],\n",
       "  'Quantity': 0.5,\n",
       "  'Ingredient Name': 'bread crumbs'},\n",
       " '3/4 cup finely chopped onion': {'Preparation': ['chopped '],\n",
       "  'Measurement': ['cup'],\n",
       "  'Quantity': 0.375,\n",
       "  'Ingredient Name': 'finely onion'},\n",
       " '3/4 cup chopped fresh basil': {'Preparation': ['chopped '],\n",
       "  'Measurement': ['cup'],\n",
       "  'Quantity': 0.375,\n",
       "  'Ingredient Name': 'fresh cilantro'},\n",
       " '1/2 cup ketchup': {'Measurement': ['cup'],\n",
       "  'Quantity': 0.25,\n",
       "  'Ingredient Name': 'tomato puree'},\n",
       " '2 ounces shredded sharp provolone cheese': {'Preparation': ['shredded '],\n",
       "  'Measurement': ['ounces'],\n",
       "  'Quantity': 1.0,\n",
       "  'Ingredient Name': 'sharp curd'},\n",
       " '2 egg whites': {'Quantity': 1.0, 'Ingredient Name': 'egg whites'},\n",
       " '2 cloves garlic, chopped': {'Measurement': ['cloves'],\n",
       "  'Quantity': 1.0,\n",
       "  'Ingredient Name': 'garlic'}}"
      ]
     },
     "execution_count": 22,
     "metadata": {},
     "output_type": "execute_result"
    }
   ],
   "source": [
    "dic"
   ]
  },
  {
   "cell_type": "code",
   "execution_count": 23,
   "metadata": {},
   "outputs": [
    {
     "name": "stdout",
     "output_type": "stream",
     "text": [
      "low-fat cheese\n",
      "parmesan cheese\n",
      "mozzarella cheese\n"
     ]
    }
   ],
   "source": [
    "for i in health_dict:\n",
    "    if 'cheese' in i['unhealthy']:\n",
    "        print(i['unhealthy'])"
   ]
  },
  {
   "cell_type": "code",
   "execution_count": 24,
   "metadata": {},
   "outputs": [
    {
     "name": "stdout",
     "output_type": "stream",
     "text": [
      "['bake' 'mix']\n"
     ]
    }
   ],
   "source": [
    "import numpy as np\n",
    "\n",
    "primary_cooking = json_data[\"methods\"][\"primary\"]\n",
    "\n",
    "primary_methods = []\n",
    "for k in recipe['directions']:\n",
    "    fl = False\n",
    "    j = k.lower()   \n",
    "    for a in primary_cooking:\n",
    "        if a in j:\n",
    "            primary_methods.append(a)\n",
    "                \n",
    "print(np.unique(primary_methods))"
   ]
  },
  {
   "cell_type": "code",
   "execution_count": 26,
   "metadata": {},
   "outputs": [
    {
     "name": "stdout",
     "output_type": "stream",
     "text": [
      "['bake' 'drain' 'heat' 'mix' 'pour' 'preheat' 'soak']\n"
     ]
    }
   ],
   "source": [
    "secondary_cooking = json_data[\"methods\"][\"secondary\"]\n",
    "\n",
    "secondary_methods = []\n",
    "for k in recipe['directions']:\n",
    "    fl = False\n",
    "    j = k.lower()   \n",
    "    for a in secondary_cooking:\n",
    "        if a in j:\n",
    "            secondary_methods.append(a)\n",
    "                \n",
    "print(np.unique(secondary_methods))"
   ]
  },
  {
   "cell_type": "code",
   "execution_count": 27,
   "metadata": {},
   "outputs": [
    {
     "name": "stdout",
     "output_type": "stream",
     "text": [
      "['bowl' 'oven' 'pan']\n"
     ]
    }
   ],
   "source": [
    "\n",
    "tools_db = json_data[\"tools\"]\n",
    "\n",
    "tools = []\n",
    "for k in recipe['directions']:\n",
    "    j = k.lower()   \n",
    "    for a in tools_db:\n",
    "        if a in j:\n",
    "            tools.append(a)\n",
    "                \n",
    "print(np.unique(tools))"
   ]
  },
  {
   "cell_type": "code",
   "execution_count": 28,
   "metadata": {},
   "outputs": [],
   "source": [
    "recipe['tools'] = np.unique(tools)\n",
    "recipe['primary methods'] = np.unique(primary_methods)"
   ]
  },
  {
   "cell_type": "code",
   "execution_count": 29,
   "metadata": {},
   "outputs": [],
   "source": [
    "recipe['secondary methods'] = np.unique(secondary_methods)"
   ]
  },
  {
   "cell_type": "code",
   "execution_count": 30,
   "metadata": {},
   "outputs": [
    {
     "data": {
      "text/plain": [
       "{'ingredients': ['1/2 cup sun-dried tomatoes',\n",
       "  '1 cup hot water',\n",
       "  'cooking spray',\n",
       "  '1 pound ground beef',\n",
       "  '1 cup seasoned bread crumbs',\n",
       "  '3/4 cup finely chopped onion',\n",
       "  '3/4 cup chopped fresh basil',\n",
       "  '1/2 cup ketchup',\n",
       "  '2 ounces shredded sharp provolone cheese',\n",
       "  '2 egg whites',\n",
       "  '2 cloves garlic, chopped'],\n",
       " 'labels': [],\n",
       " 'directions': ['Put tomatoes in a bowl. Pour hot water over tomatoes and soak until softened, about 30 minutes; drain.',\n",
       "  'Preheat oven to 350 degrees F (175 degrees C). Prepare a loaf pan with cooking spray.',\n",
       "  'Mix drained tomatoes, ground beef, bread crumbs, onion, basil, ketchup, provolone cheese, egg whites, and garlic together in a bowl; pack into prepared loaf pan.',\n",
       "  'Bake in the preheated oven until no longer pink in the center, about 1 hour. An instant-read thermometer inserted into the center should read at least 160 degrees F (70 degrees C).'],\n",
       " 'tools': array(['bowl', 'oven', 'pan'], dtype='<U4'),\n",
       " 'primary methods': array(['bake', 'mix'], dtype='<U4'),\n",
       " 'secondary methods': array(['bake', 'drain', 'heat', 'mix', 'pour', 'preheat', 'soak'],\n",
       "       dtype='<U7')}"
      ]
     },
     "execution_count": 30,
     "metadata": {},
     "output_type": "execute_result"
    }
   ],
   "source": [
    "recipe"
   ]
  },
  {
   "cell_type": "code",
   "execution_count": 32,
   "metadata": {},
   "outputs": [
    {
     "data": {
      "text/plain": [
       "'bowl'"
      ]
     },
     "execution_count": 32,
     "metadata": {},
     "output_type": "execute_result"
    }
   ],
   "source": []
  },
  {
   "cell_type": "code",
   "execution_count": null,
   "metadata": {},
   "outputs": [],
   "source": []
  }
 ],
 "metadata": {
  "kernelspec": {
   "display_name": "Python 3",
   "language": "python",
   "name": "python3"
  },
  "language_info": {
   "codemirror_mode": {
    "name": "ipython",
    "version": 3
   },
   "file_extension": ".py",
   "mimetype": "text/x-python",
   "name": "python",
   "nbconvert_exporter": "python",
   "pygments_lexer": "ipython3",
   "version": "3.7.4"
  }
 },
 "nbformat": 4,
 "nbformat_minor": 4
}
