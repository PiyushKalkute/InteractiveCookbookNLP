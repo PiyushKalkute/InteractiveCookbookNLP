{
 "cells": [
  {
   "cell_type": "code",
   "execution_count": 6,
   "metadata": {},
   "outputs": [
    {
     "data": {
      "text/plain": [
       "3.5"
      ]
     },
     "execution_count": 6,
     "metadata": {},
     "output_type": "execute_result"
    }
   ],
   "source": [
    "import fractions\n",
    "c = \"3  1/2\"\n",
    "def mixed_to_float(x):\n",
    "    return float(sum(fractions.Fraction(term) for term in x.split()))\n",
    "mixed_to_float(\"3.5\")"
   ]
  },
  {
   "cell_type": "code",
   "execution_count": 78,
   "metadata": {},
   "outputs": [],
   "source": [
    "import json\n",
    "path = 'recipeDB.json'\n",
    "with open(path) as f:\n",
    "    # load the data\n",
    "    json_data = json.load(f)\n",
    "\n",
    "indian_dict = json_data[\"anyToIndian\"]\n",
    "style_dict = json_data[\"styles\"]"
   ]
  },
  {
   "cell_type": "code",
   "execution_count": 70,
   "metadata": {},
   "outputs": [
    {
     "data": {
      "text/plain": [
       "{'ingredients': ['1/2 (16 ounce) can spicy fat-free refried beans*',\n",
       "  '1 cup salsa, divided',\n",
       "  '1 (12 inch) pre-baked Italian pizza crust',\n",
       "  '2 cups shredded hearts of romaine lettuce',\n",
       "  '3 medium green onions, thinly sliced',\n",
       "  '1/4 cup ranch dressing',\n",
       "  '1/4 cup crumbled tortilla chips',\n",
       "  '1 cup shredded pepper Jack or Monterey Jack cheese'],\n",
       " 'labels': [],\n",
       " 'directions': [\"Adjust oven rack to lowest position, and heat oven to 450 degrees. Mix beans and 1/2 cup salsa in a medium bowl. Place crust on a cookie sheet, then spread the bean mixture over crust. Bake until it's crisp and warm, about 10 minutes.\",\n",
       "  'Remove from oven; top with lettuce, green onions and dollop with the remaining salsa. Drizzle (or, if dressing has an easy-pour top, squirt) dressing over pizza. Top with chips and cheese, then return to oven and bake until the cheese melts, about 2 minutes longer. Cut into 6 slices and serve.']}"
      ]
     },
     "execution_count": 70,
     "metadata": {},
     "output_type": "execute_result"
    }
   ],
   "source": [
    "from bs4 import BeautifulSoup\n",
    "\n",
    "import requests\n",
    "\n",
    "\n",
    "class RecipeFetcher:\n",
    "\n",
    "    search_base_url = 'https://www.allrecipes.com/search/results/?wt=%s&sort=re'\n",
    "\n",
    "    def search_recipes(self, keywords): \n",
    "        search_url = self.search_base_url %(keywords.replace(' ','+'))\n",
    "\n",
    "        page_html = requests.get(search_url)\n",
    "        page_graph = BeautifulSoup(page_html.content,features = \"lxml\")\n",
    "\n",
    "        return [recipe.a['href'] for recipe in\\\n",
    "               page_graph.find_all('div', {'class':'grid-card-image-container'})]\n",
    "\n",
    "    def scrape_recipe(self, recipe_url):\n",
    "        results = {}\n",
    "\n",
    "        page_html = requests.get(recipe_url)\n",
    "        page_graph = BeautifulSoup(page_html.content,features = \"lxml\")\n",
    "        results['ingredients'] = [ingredient.text for ingredient in\\\n",
    "                                  page_graph.find_all('span', {'itemprop':'recipeIngredient'})]\n",
    "        \n",
    "        results['labels'] = [ingredient.text for ingredient in\\\n",
    "#                                   page_graph.find_all('span', {'itemprop':'recipeIngredient'})\n",
    "                                  page_graph.find_all('span', {'data-id':'0'})]\n",
    "        \n",
    "        results['directions'] = [direction.text.strip() for direction in\\\n",
    "                                 page_graph.find_all('span', {'class':'recipe-directions__list--item'})\n",
    "                                 if direction.text.strip()]\n",
    "        for i in results['ingredients']:\n",
    "            if i in results['labels']:\n",
    "                results['ingredients'].remove(i)\n",
    "                \n",
    "        return results\n",
    "\n",
    "    \n",
    "rf = RecipeFetcher()\n",
    "paneer_makhani = rf.search_recipes('mexican pizza')[0]\n",
    "recipe = (rf.scrape_recipe(paneer_makhani))\n",
    "recipe"
   ]
  },
  {
   "cell_type": "code",
   "execution_count": 71,
   "metadata": {},
   "outputs": [],
   "source": [
    "import re\n",
    "dic = {}\n",
    "\n",
    "for i in (recipe['ingredients']):\n",
    "    dic[i] ={}\n",
    "    x=re.findall('\\w+ed ',i)\n",
    "    if x!=[]:\n",
    "        dic[i] = {'Preparation':x}\n",
    "        \n",
    "for i in (recipe['ingredients']):\n",
    "    #print(i)\n",
    "    if '(' in i and '%' not in i:\n",
    "        x=re.findall('\\(\\d+ (\\w+)\\)',i)\n",
    "        if x!=[]:\n",
    "            dic[i]['Measurement'] = x\n",
    "    elif '%' in i:\n",
    "        x=re.findall('\\d+ (\\w+)',i)\n",
    "        if x!=[]:\n",
    "            dic[i]['Measurement'] = x\n",
    "    else:\n",
    "        x = re.findall('\\d+ (\\w+) \\w+',i)\n",
    "        if x!=[]:\n",
    "            dic[i]['Measurement']=x\n",
    "            \n",
    "for i in (recipe['ingredients']):\n",
    "    if '(' in i and '%' not in i:\n",
    "        x=re.findall('\\((\\d+) \\w+\\)',i)\n",
    "        if x!=[]:\n",
    "            dic[i]['Quantity'] = mixed_to_float(x[0])\n",
    "    elif '%' in i:\n",
    "        x=re.findall('(\\d+) \\w+',i)\n",
    "        if x!=[]:\n",
    "            dic[i]['Quantity'] = mixed_to_float(x[0])\n",
    "    else:    \n",
    "        if '/' in i:\n",
    "            x=re.findall('(\\d*\\s*\\d\\/\\d)+',i)\n",
    "            if x!=[]:\n",
    "                dic[i]['Quantity'] = mixed_to_float(x[0])\n",
    "\n",
    "        else:\n",
    "            x = re.findall('(\\d+) \\w',i)\n",
    "            if x!=[]:\n",
    "                dic[i]['Quantity']=mixed_to_float(x[0])\n",
    "                \n",
    "for i in (recipe['ingredients']):\n",
    "    x = i\n",
    "    if ')' in i:\n",
    "        \n",
    "        x=re.sub('.*\\(.*\\) \\w+','',x)\n",
    "#         if x!=[]:\n",
    "#             dic[i]['Quantity'] = x    \n",
    "    if '/' in i:\n",
    "            x=re.sub('\\/','',x)\n",
    "#             if x!=[]:\n",
    "#                 dic[i]['Quantity'] = mixed_to_float(x[0])\n",
    "    x =re.sub('\\d+','',x)\n",
    "    try:\n",
    "        x = re.sub(dic[i]['Measurement'][0],'',x)\n",
    "        x = re.sub(dic[i]['Preparation'][0],'',x)\n",
    "    except:\n",
    "        x = x\n",
    "    x = re.sub('\\,.*|to taste','',x).lstrip(' ')\n",
    "    dic[i]['Ingredient Name'] = x\n"
   ]
  },
  {
   "cell_type": "code",
   "execution_count": 72,
   "metadata": {},
   "outputs": [
    {
     "data": {
      "text/plain": [
       "{'1/2 (16 ounce) can spicy fat-free refried beans*': {'Preparation': ['refried '],\n",
       "  'Measurement': ['ounce'],\n",
       "  'Quantity': 16.0,\n",
       "  'Ingredient Name': 'spicy fat-free beans*'},\n",
       " '1 cup salsa, divided': {'Measurement': ['cup'],\n",
       "  'Quantity': 1.0,\n",
       "  'Ingredient Name': 'salsa'},\n",
       " '1 (12 inch) pre-baked Italian pizza crust': {'Preparation': ['baked '],\n",
       "  'Measurement': ['inch'],\n",
       "  'Quantity': 12.0,\n",
       "  'Ingredient Name': '-Italian pizza crust'},\n",
       " '2 cups shredded hearts of romaine lettuce': {'Preparation': ['shredded '],\n",
       "  'Measurement': ['cups'],\n",
       "  'Quantity': 2.0,\n",
       "  'Ingredient Name': 'hearts of romaine lettuce'},\n",
       " '3 medium green onions, thinly sliced': {'Measurement': ['medium'],\n",
       "  'Quantity': 3.0,\n",
       "  'Ingredient Name': 'green onions'},\n",
       " '1/4 cup ranch dressing': {'Measurement': ['cup'],\n",
       "  'Quantity': 0.25,\n",
       "  'Ingredient Name': 'ranch dressing'},\n",
       " '1/4 cup crumbled tortilla chips': {'Preparation': ['crumbled '],\n",
       "  'Measurement': ['cup'],\n",
       "  'Quantity': 0.25,\n",
       "  'Ingredient Name': 'tortilla chips'},\n",
       " '1 cup shredded pepper Jack or Monterey Jack cheese': {'Preparation': ['shredded '],\n",
       "  'Measurement': ['cup'],\n",
       "  'Quantity': 1.0,\n",
       "  'Ingredient Name': 'pepper Jack or Monterey Jack cheese'}}"
      ]
     },
     "execution_count": 72,
     "metadata": {},
     "output_type": "execute_result"
    }
   ],
   "source": [
    "dic"
   ]
  },
  {
   "cell_type": "code",
   "execution_count": 73,
   "metadata": {},
   "outputs": [],
   "source": [
    "arr =[]\n",
    "arr2 =[]\n",
    "steps=[]\n",
    "\n",
    "def to_Indian(recipe_dic):\n",
    "    transformed_directions =[]\n",
    "    for i in recipe_dic:\n",
    "        curr = recipe_dic[i]['Ingredient Name'].lower()\n",
    "        #print(dic[i]['Ingredient Name'])\n",
    "        for a in style_dict:\n",
    "            if a in curr:\n",
    "                k = curr.replace(a, 'indian')\n",
    "                curr = k\n",
    "        for j in indian_dict:\n",
    "            if (j['other']) in curr:\n",
    "                curr = curr.replace(j['other'], j['indian'])\n",
    "        recipe_dic[i]['Ingredient Name'] = curr\n",
    "        arr.append(curr)\n",
    "    while '' in arr: arr.remove('')\n",
    "    print(\"INGREDIENTS:\")\n",
    "    print(arr)\n",
    "    print(\"______________________________________________________\")\n",
    "    for k in recipe['directions']:\n",
    "        fl = False\n",
    "        j = k.lower()   \n",
    "        for a in style_dict:\n",
    "            if a in j:\n",
    "                k = j.replace(a, 'indian')\n",
    "                j = k\n",
    "        for a in indian_dict:\n",
    "            if a['other'] in j:\n",
    "                k = j.replace(a['other'], a['indian'])\n",
    "                j = k\n",
    "                #print(a['other'])\n",
    "                #print(k)\n",
    "        transformed_directions.append(k)\n",
    "        \n",
    "    for k in transformed_directions:\n",
    "        fl = False\n",
    "        j = k.lower()   \n",
    "        for a in indian_dict:   \n",
    "            for word in a['other'].split():\n",
    "                if word in j:\n",
    "                    k = j.replace(word, a['indian'])\n",
    "                    j = k\n",
    "                    #print(word)\n",
    "                    #print(k)\n",
    "        steps.append(k)\n",
    "    #print(\"DIRECTIONS:\")\n",
    "    #print(steps)\n",
    "    return steps"
   ]
  },
  {
   "cell_type": "code",
   "execution_count": 74,
   "metadata": {},
   "outputs": [
    {
     "name": "stdout",
     "output_type": "stream",
     "text": [
      "INGREDIENTS:\n",
      "['spicy fat-free beans*', 'tomato puree', '-indian garlic naan', 'cabbage', 'green onions', 'pudina chutney', 'wheat roti chips', 'pepper jack or paneer']\n",
      "______________________________________________________\n",
      "DIRECTIONS:\n",
      "[\"adjust oven rack to lowest position, and heat oven to 450 degrees. mix beans and 1/2 cup tomato puree in a medium bowl. place garlic naan on a cookie sheet, then spread the bean mixture over garlic naan. bake until it's crisp and warm, about 10 minutes.\", 'remove from oven; top with cabbage, green onions and dollop with the remaining tomato puree. drizzle (or, if pudina chutney has an easy-pour top, squirt) pudina chutney over garlic naan. top with chips and paneer, then return to oven and bake until the paneer melts, about 2 minutes longer. cut into 6 slices and serve.']\n"
     ]
    },
    {
     "data": {
      "text/plain": [
       "{'1/2 (16 ounce) can spicy fat-free refried beans*': {'Preparation': ['refried '],\n",
       "  'Measurement': ['ounce'],\n",
       "  'Quantity': 16.0,\n",
       "  'Ingredient Name': 'spicy fat-free beans*'},\n",
       " '1 cup salsa, divided': {'Measurement': ['cup'],\n",
       "  'Quantity': 1.0,\n",
       "  'Ingredient Name': 'tomato puree'},\n",
       " '1 (12 inch) pre-baked Italian pizza crust': {'Preparation': ['baked '],\n",
       "  'Measurement': ['inch'],\n",
       "  'Quantity': 12.0,\n",
       "  'Ingredient Name': '-indian garlic naan'},\n",
       " '2 cups shredded hearts of romaine lettuce': {'Preparation': ['shredded '],\n",
       "  'Measurement': ['cups'],\n",
       "  'Quantity': 2.0,\n",
       "  'Ingredient Name': 'cabbage'},\n",
       " '3 medium green onions, thinly sliced': {'Measurement': ['medium'],\n",
       "  'Quantity': 3.0,\n",
       "  'Ingredient Name': 'green onions'},\n",
       " '1/4 cup ranch dressing': {'Measurement': ['cup'],\n",
       "  'Quantity': 0.25,\n",
       "  'Ingredient Name': 'pudina chutney'},\n",
       " '1/4 cup crumbled tortilla chips': {'Preparation': ['crumbled '],\n",
       "  'Measurement': ['cup'],\n",
       "  'Quantity': 0.25,\n",
       "  'Ingredient Name': 'wheat roti chips'},\n",
       " '1 cup shredded pepper Jack or Monterey Jack cheese': {'Preparation': ['shredded '],\n",
       "  'Measurement': ['cup'],\n",
       "  'Quantity': 1.0,\n",
       "  'Ingredient Name': 'pepper jack or paneer'}}"
      ]
     },
     "execution_count": 74,
     "metadata": {},
     "output_type": "execute_result"
    }
   ],
   "source": [
    "to_Indian(dic)\n",
    "dic"
   ]
  },
  {
   "cell_type": "code",
   "execution_count": 75,
   "metadata": {},
   "outputs": [
    {
     "name": "stdout",
     "output_type": "stream",
     "text": [
      "['bake' 'mix']\n"
     ]
    }
   ],
   "source": [
    "import numpy as np\n",
    "\n",
    "primary_cooking = json_data[\"methods\"][\"primary\"]\n",
    "\n",
    "primary_methods = []\n",
    "for k in recipe['directions']:\n",
    "    fl = False\n",
    "    j = k.lower()   \n",
    "    for a in primary_cooking:\n",
    "        if a in j:\n",
    "            primary_methods.append(a)\n",
    "                \n",
    "print(np.unique(primary_methods))"
   ]
  },
  {
   "cell_type": "code",
   "execution_count": 76,
   "metadata": {},
   "outputs": [
    {
     "name": "stdout",
     "output_type": "stream",
     "text": [
      "['bowl' 'cup' 'oven']\n"
     ]
    }
   ],
   "source": [
    "import numpy as np\n",
    "\n",
    "tools_db = json_data[\"tools\"]\n",
    "\n",
    "tools = []\n",
    "for k in recipe['directions']:\n",
    "    j = k.lower()   \n",
    "    for a in tools_db:\n",
    "        if a in j:\n",
    "            tools.append(a)\n",
    "                \n",
    "print(np.unique(tools))"
   ]
  },
  {
   "cell_type": "code",
   "execution_count": 77,
   "metadata": {},
   "outputs": [
    {
     "data": {
      "text/plain": [
       "{'1/2 (16 ounce) can spicy fat-free refried beans*': {'Preparation': ['refried '],\n",
       "  'Measurement': ['ounce'],\n",
       "  'Quantity': 16.0,\n",
       "  'Ingredient Name': 'spicy fat-free beans*'},\n",
       " '1 cup salsa, divided': {'Measurement': ['cup'],\n",
       "  'Quantity': 1.0,\n",
       "  'Ingredient Name': 'tomato puree'},\n",
       " '1 (12 inch) pre-baked Italian pizza crust': {'Preparation': ['baked '],\n",
       "  'Measurement': ['inch'],\n",
       "  'Quantity': 12.0,\n",
       "  'Ingredient Name': '-indian garlic naan'},\n",
       " '2 cups shredded hearts of romaine lettuce': {'Preparation': ['shredded '],\n",
       "  'Measurement': ['cups'],\n",
       "  'Quantity': 2.0,\n",
       "  'Ingredient Name': 'cabbage'},\n",
       " '3 medium green onions, thinly sliced': {'Measurement': ['medium'],\n",
       "  'Quantity': 3.0,\n",
       "  'Ingredient Name': 'green onions'},\n",
       " '1/4 cup ranch dressing': {'Measurement': ['cup'],\n",
       "  'Quantity': 0.25,\n",
       "  'Ingredient Name': 'pudina chutney'},\n",
       " '1/4 cup crumbled tortilla chips': {'Preparation': ['crumbled '],\n",
       "  'Measurement': ['cup'],\n",
       "  'Quantity': 0.25,\n",
       "  'Ingredient Name': 'wheat roti chips'},\n",
       " '1 cup shredded pepper Jack or Monterey Jack cheese': {'Preparation': ['shredded '],\n",
       "  'Measurement': ['cup'],\n",
       "  'Quantity': 1.0,\n",
       "  'Ingredient Name': 'pepper jack or paneer'}}"
      ]
     },
     "execution_count": 77,
     "metadata": {},
     "output_type": "execute_result"
    }
   ],
   "source": [
    "dic"
   ]
  },
  {
   "cell_type": "code",
   "execution_count": null,
   "metadata": {},
   "outputs": [],
   "source": []
  },
  {
   "cell_type": "code",
   "execution_count": null,
   "metadata": {},
   "outputs": [],
   "source": []
  }
 ],
 "metadata": {
  "kernelspec": {
   "display_name": "Python 3",
   "language": "python",
   "name": "python3"
  },
  "language_info": {
   "codemirror_mode": {
    "name": "ipython",
    "version": 3
   },
   "file_extension": ".py",
   "mimetype": "text/x-python",
   "name": "python",
   "nbconvert_exporter": "python",
   "pygments_lexer": "ipython3",
   "version": "3.7.4"
  }
 },
 "nbformat": 4,
 "nbformat_minor": 2
}
